{
 "cells": [
  {
   "cell_type": "code",
   "execution_count": 1,
   "id": "a32908a1-fb10-4d1f-968d-337034c7dc2b",
   "metadata": {},
   "outputs": [],
   "source": [
    "class Account():\n",
    "\n",
    "    def __init__(self, owner, balance=0):\n",
    "\n",
    "        self.owner = owner\n",
    "        self.balance = balance\n",
    "\n",
    "    def deposit(self, amount):\n",
    "\n",
    "        self.balance = self.balance + amount\n",
    "        print (\"Added {} to the balance\".format(amount))\n",
    "\n",
    "\n",
    "    def withdraw(self, amount):\n",
    "\n",
    "        if self.balance >= amount:\n",
    "            self.balance = self.balance - amount\n",
    "            print('withdrawal accepted')\n",
    "\n",
    "        else:\n",
    "            print(\"Sorry enough funds!\")\n",
    "\n",
    "\n",
    "    def __str__(self):\n",
    "        return \"owner: {} balance: {}\".format(self.owner, self.balance)"
   ]
  },
  {
   "cell_type": "code",
   "execution_count": 3,
   "id": "41b03b8e-96e8-4d74-aba6-6d6b98f3d29d",
   "metadata": {},
   "outputs": [],
   "source": [
    "acc = Account(\"V\", 500)"
   ]
  },
  {
   "cell_type": "code",
   "execution_count": 7,
   "id": "76e4d633-308e-4c08-a670-0208968bc25e",
   "metadata": {},
   "outputs": [
    {
     "data": {
      "text/plain": [
       "'V'"
      ]
     },
     "execution_count": 7,
     "metadata": {},
     "output_type": "execute_result"
    }
   ],
   "source": [
    "acc.owner"
   ]
  },
  {
   "cell_type": "code",
   "execution_count": 9,
   "id": "5e5bab6c-0dd3-431a-88aa-aeb0e31570ca",
   "metadata": {},
   "outputs": [
    {
     "data": {
      "text/plain": [
       "500"
      ]
     },
     "execution_count": 9,
     "metadata": {},
     "output_type": "execute_result"
    }
   ],
   "source": [
    "acc.balance"
   ]
  },
  {
   "cell_type": "code",
   "execution_count": 11,
   "id": "4976d71d-9940-43ac-a448-d71101a83363",
   "metadata": {},
   "outputs": [
    {
     "name": "stdout",
     "output_type": "stream",
     "text": [
      "Added 100 to the balance\n"
     ]
    }
   ],
   "source": [
    "acc.deposit(100)"
   ]
  },
  {
   "cell_type": "code",
   "execution_count": 13,
   "id": "40b54d05-4c97-4206-a97b-37f5870c9680",
   "metadata": {},
   "outputs": [
    {
     "name": "stdout",
     "output_type": "stream",
     "text": [
      "withdrawal accepted\n"
     ]
    }
   ],
   "source": [
    "acc.withdraw(600)"
   ]
  },
  {
   "cell_type": "code",
   "execution_count": 15,
   "id": "c2509806-140b-4f66-906e-e9f461d6f05c",
   "metadata": {},
   "outputs": [
    {
     "name": "stdout",
     "output_type": "stream",
     "text": [
      "Sorry enough funds!\n"
     ]
    }
   ],
   "source": [
    "acc.withdraw(50)"
   ]
  }
 ],
 "metadata": {
  "kernelspec": {
   "display_name": "Python [conda env:base] *",
   "language": "python",
   "name": "conda-base-py"
  },
  "language_info": {
   "codemirror_mode": {
    "name": "ipython",
    "version": 3
   },
   "file_extension": ".py",
   "mimetype": "text/x-python",
   "name": "python",
   "nbconvert_exporter": "python",
   "pygments_lexer": "ipython3",
   "version": "3.12.7"
  }
 },
 "nbformat": 4,
 "nbformat_minor": 5
}
