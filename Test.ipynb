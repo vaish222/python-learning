{
 "cells": [
  {
   "cell_type": "code",
   "execution_count": 35,
   "id": "fff43625-526c-49f9-8968-1da59debb86d",
   "metadata": {},
   "outputs": [],
   "source": [
    "def get_count():\n",
    "    return 50"
   ]
  },
  {
   "cell_type": "code",
   "execution_count": 37,
   "id": "a22c5fd7-2421-4702-adc4-a6b75bc603a0",
   "metadata": {},
   "outputs": [],
   "source": [
    "def get_data():\n",
    "    count = get_count()\n",
    "    list_data = []\n",
    "    for i in range(0,count,10):\n",
    "        print('i is:{}'.format(i))\n",
    "        list_data.append(i)\n",
    "        \n",
    "    return list_data"
   ]
  },
  {
   "cell_type": "code",
   "execution_count": 39,
   "id": "2f76f021-7341-4536-867f-41a299cf4f03",
   "metadata": {},
   "outputs": [],
   "source": [
    "def main_func():\n",
    "    data = get_data()\n",
    "    print('data is:{}'.format(data))"
   ]
  },
  {
   "cell_type": "code",
   "execution_count": 41,
   "id": "68d316d4-a9c4-485c-9292-fb0fd9304d9b",
   "metadata": {},
   "outputs": [
    {
     "name": "stdout",
     "output_type": "stream",
     "text": [
      "i is:0\n",
      "i is:10\n",
      "i is:20\n",
      "i is:30\n",
      "i is:40\n",
      "data is:[0, 10, 20, 30, 40]\n"
     ]
    }
   ],
   "source": [
    "main_func()"
   ]
  },
  {
   "cell_type": "code",
   "execution_count": null,
   "id": "51d1b518-2191-4a19-bc40-7b54fb028573",
   "metadata": {},
   "outputs": [],
   "source": []
  }
 ],
 "metadata": {
  "kernelspec": {
   "display_name": "Python [conda env:base] *",
   "language": "python",
   "name": "conda-base-py"
  },
  "language_info": {
   "codemirror_mode": {
    "name": "ipython",
    "version": 3
   },
   "file_extension": ".py",
   "mimetype": "text/x-python",
   "name": "python",
   "nbconvert_exporter": "python",
   "pygments_lexer": "ipython3",
   "version": "3.12.7"
  }
 },
 "nbformat": 4,
 "nbformat_minor": 5
}
