{
 "cells": [
  {
   "cell_type": "code",
   "execution_count": 291,
   "id": "be9c1404-1ffe-4699-8fb2-2d6e46472ebd",
   "metadata": {},
   "outputs": [],
   "source": [
    "def big(letter):\n",
    "    patterns= {1:'  *  ',2:' * * ',3:'*    *',4:'*****',5:'**** ',6:'    * ',7:' *   ',8:'*    * ',9:'*     '}\n",
    "\n",
    "    alphabet = {'A':[1,2,4,3,3],  'B':[5,3,5,3,5]}\n",
    "    for p in alphabet[letter.upper()]:\n",
    "        print(patterns[p])"
   ]
  },
  {
   "cell_type": "code",
   "execution_count": 295,
   "id": "f55528e2-ada0-4fae-b4e4-1a3a52179527",
   "metadata": {},
   "outputs": [
    {
     "name": "stdout",
     "output_type": "stream",
     "text": [
      "**** \n",
      "*    *\n",
      "**** \n",
      "*    *\n",
      "**** \n"
     ]
    }
   ],
   "source": [
    "big('b')"
   ]
  },
  {
   "cell_type": "code",
   "execution_count": 301,
   "id": "be3416b2-3fa1-453e-8587-6c9f94d8ca95",
   "metadata": {},
   "outputs": [],
   "source": [
    "def vol(rad):\n",
    "    return (4/3)*(3.14)*(rad**3)"
   ]
  },
  {
   "cell_type": "code",
   "execution_count": 303,
   "id": "9bd7fe17-b62c-4028-93b5-43e4eded52c7",
   "metadata": {},
   "outputs": [
    {
     "data": {
      "text/plain": [
       "33.49333333333333"
      ]
     },
     "execution_count": 303,
     "metadata": {},
     "output_type": "execute_result"
    }
   ],
   "source": [
    "vol(2)"
   ]
  },
  {
   "cell_type": "code",
   "execution_count": 305,
   "id": "cc2263a0-116e-4edf-b094-81ee7be4b857",
   "metadata": {},
   "outputs": [],
   "source": [
    "def check_range(num,low,high):\n",
    "    return num in range(low, high+1)"
   ]
  },
  {
   "cell_type": "code",
   "execution_count": 307,
   "id": "8e77334b-ea01-40cf-95e6-3646d90731d9",
   "metadata": {},
   "outputs": [
    {
     "data": {
      "text/plain": [
       "True"
      ]
     },
     "execution_count": 307,
     "metadata": {},
     "output_type": "execute_result"
    }
   ],
   "source": [
    "check_range(5,2,7)"
   ]
  },
  {
   "cell_type": "code",
   "execution_count": 309,
   "id": "80088814-381c-4e05-9a69-29fe60c293b8",
   "metadata": {},
   "outputs": [
    {
     "data": {
      "text/plain": [
       "False"
      ]
     },
     "execution_count": 309,
     "metadata": {},
     "output_type": "execute_result"
    }
   ],
   "source": [
    "check_range(8,2,7)"
   ]
  },
  {
   "cell_type": "code",
   "execution_count": 311,
   "id": "b48c4762-310a-477e-8795-0071dd95bd0a",
   "metadata": {},
   "outputs": [],
   "source": [
    "def check_range(num,low,high):\n",
    "    if num in range(low, high+1):\n",
    "        print('{} in range'.format(num))\n",
    "    else:\n",
    "        print('not in range')"
   ]
  },
  {
   "cell_type": "code",
   "execution_count": 313,
   "id": "3b4c87c9-d1b2-461c-8d1c-c84de2002a80",
   "metadata": {},
   "outputs": [
    {
     "name": "stdout",
     "output_type": "stream",
     "text": [
      "not in range\n"
     ]
    }
   ],
   "source": [
    "check_range(8,3,7)"
   ]
  },
  {
   "cell_type": "code",
   "execution_count": 315,
   "id": "52795acf-6e7b-4d56-ac6f-c08f0fc4d6c7",
   "metadata": {},
   "outputs": [
    {
     "name": "stdout",
     "output_type": "stream",
     "text": [
      "5 in range\n"
     ]
    }
   ],
   "source": [
    "check_range(5,4,7)"
   ]
  },
  {
   "cell_type": "code",
   "execution_count": 329,
   "id": "11666869-23e5-4e41-abbf-88b879aa8ba4",
   "metadata": {},
   "outputs": [],
   "source": [
    "def up_low(s):\n",
    "    d = {'upper':0, 'lower':0}\n",
    "    \n",
    "    lowercase = 0\n",
    "    uppercase = 0\n",
    "\n",
    "    for char in s:\n",
    "        if char.isupper():\n",
    "            d['upper'] += 1\n",
    "        elif char.islower():\n",
    "            d['lower'] += 1\n",
    "        else:\n",
    "            pass\n",
    "\n",
    "    print(\"original string: {}\".format(s))\n",
    "    print(\"uppercase count: {}\".format(d[\"upper\"]))\n",
    "    print(\"lowercase count: {}\".format(d[\"lower\"]))\n",
    "        "
   ]
  },
  {
   "cell_type": "code",
   "execution_count": 331,
   "id": "caa82088-2cb3-44b6-8c97-39a23f232edd",
   "metadata": {},
   "outputs": [
    {
     "name": "stdout",
     "output_type": "stream",
     "text": [
      "original string: Hello Mr. Rogers, how are you this fine Tuesday?\n",
      "uppercase count: 4\n",
      "lowercase count: 33\n"
     ]
    }
   ],
   "source": [
    "up_low('Hello Mr. Rogers, how are you this fine Tuesday?')"
   ]
  },
  {
   "cell_type": "code",
   "execution_count": 337,
   "id": "606255f4-485a-4b8d-92e3-7c0d4b83be6a",
   "metadata": {},
   "outputs": [],
   "source": [
    "def unique_list(lst):\n",
    "    return list(set(lst))"
   ]
  },
  {
   "cell_type": "code",
   "execution_count": 339,
   "id": "8ea95734-4e4f-4a71-b591-a6d502379d4d",
   "metadata": {},
   "outputs": [
    {
     "data": {
      "text/plain": [
       "[1, 2, 3, 4, 5, 6, 7, 8, 9]"
      ]
     },
     "execution_count": 339,
     "metadata": {},
     "output_type": "execute_result"
    }
   ],
   "source": [
    "unique_list([1,2,3,4,1,4,5,6,4,3,2,5,6,7,8,9])"
   ]
  },
  {
   "cell_type": "code",
   "execution_count": 349,
   "id": "1f93b860-dc57-4bca-b609-d15b483f6478",
   "metadata": {},
   "outputs": [],
   "source": [
    "def multiply(numbers):\n",
    "    total = 1\n",
    "\n",
    "    for n in numbers:\n",
    "        total = total*n\n",
    "    return total"
   ]
  },
  {
   "cell_type": "code",
   "execution_count": 351,
   "id": "5c43ea1f-68c4-4afb-b1f0-7df54e17a585",
   "metadata": {},
   "outputs": [
    {
     "data": {
      "text/plain": [
       "60"
      ]
     },
     "execution_count": 351,
     "metadata": {},
     "output_type": "execute_result"
    }
   ],
   "source": [
    "multiply([1,2,3,10])"
   ]
  },
  {
   "cell_type": "code",
   "execution_count": 355,
   "id": "070581f8-14b0-4dd9-b5c4-bac8033ed16e",
   "metadata": {},
   "outputs": [],
   "source": [
    "def palindrome(s):\n",
    "    s = s.replace(' ', '')\n",
    "    return s == s[::-1]"
   ]
  },
  {
   "cell_type": "code",
   "execution_count": 359,
   "id": "b83bec55-ad97-443d-b3dd-628b66ad429f",
   "metadata": {},
   "outputs": [
    {
     "data": {
      "text/plain": [
       "True"
      ]
     },
     "execution_count": 359,
     "metadata": {},
     "output_type": "execute_result"
    }
   ],
   "source": [
    "palindrome('nurses run')"
   ]
  },
  {
   "cell_type": "code",
   "execution_count": 365,
   "id": "d6945d03-b585-4227-979b-29555843d841",
   "metadata": {},
   "outputs": [],
   "source": [
    "import string\n",
    "\n",
    "def ispangram(inputstr, alphabet=string.ascii_lowercase):\n",
    "\n",
    "    set_of_alphabets = set(alphabet)\n",
    "    inputstr = inputstr.replace(' ', '')\n",
    "    inputstr = inputstr.lower()\n",
    "    inputstr = set(inputstr)\n",
    "    return inputstr == set_of_alphabets"
   ]
  },
  {
   "cell_type": "code",
   "execution_count": 367,
   "id": "3a8680ed-9412-43c6-a1e2-5c2f40d9b605",
   "metadata": {},
   "outputs": [
    {
     "data": {
      "text/plain": [
       "True"
      ]
     },
     "execution_count": 367,
     "metadata": {},
     "output_type": "execute_result"
    }
   ],
   "source": [
    "ispangram(\"The quick brown fox jumps over the lazy dog\")"
   ]
  },
  {
   "cell_type": "code",
   "execution_count": null,
   "id": "be360b65-abd2-4d5f-833a-e03f78869b18",
   "metadata": {},
   "outputs": [],
   "source": []
  }
 ],
 "metadata": {
  "kernelspec": {
   "display_name": "Python [conda env:base] *",
   "language": "python",
   "name": "conda-base-py"
  },
  "language_info": {
   "codemirror_mode": {
    "name": "ipython",
    "version": 3
   },
   "file_extension": ".py",
   "mimetype": "text/x-python",
   "name": "python",
   "nbconvert_exporter": "python",
   "pygments_lexer": "ipython3",
   "version": "3.12.7"
  }
 },
 "nbformat": 4,
 "nbformat_minor": 5
}
